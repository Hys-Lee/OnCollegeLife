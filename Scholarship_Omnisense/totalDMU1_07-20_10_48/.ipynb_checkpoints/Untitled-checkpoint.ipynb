{
 "cells": [
  {
   "cell_type": "code",
   "execution_count": 87,
   "metadata": {},
   "outputs": [],
   "source": [
    "##4개 데이터 2분마다 각 column대해 평균 내린거 4개를 하나로 합치기@@@@@=>교집합으로 합쳐서 모두에 다 있는 데이터만 챙길꺼임\n",
    "## 0분~1분 59초 => 0분 이런 식으로 \n",
    "import pandas as pd\n",
    "dataset=[]\n",
    "dataset.append(pd.read_csv(\"totalDMU1_07-20_10_48.csv\"))\n",
    "dataset.append(pd.read_csv(\"totalDMU2_07-20_10_49.csv\"))\n",
    "dataset.append(pd.read_csv(\"totalDMU3_07-20_10_49.csv\"))\n",
    "dataset.append(pd.read_csv(\"totalDMU4_07-20_10_49.csv\"))\n",
    "#df=df.set_index('time')\n",
    "\n",
    "tmp=pd.DataFrame\n",
    "result=pd.DataFrame\n",
    "\n",
    "\n",
    "\n",
    "\n",
    "#  result['AI'] = :dataset[0].AI.resample('2T').mean()\n",
    "#  result['RAW'] = dataset[0].RAW.resample('2T').mean()\n",
    "#  result['PM10'] = dataset[0].PM10.resample('2T').mean()\n",
    "#  result['RH'] = dataset[0].RH.resample('2T').mean()\n",
    "#  result['TEMP'] = dataset[0].TEMP.resample('2T').mean()\n",
    "\n",
    "\n",
    "for i in range(4):\n",
    "    dataset[i]['time']=pd.to_datetime(dataset[i]['time'])\n",
    "    dataset[i] = dataset[i].set_index('time')\n",
    "    dataset[i]=dataset[i].resample('2T').mean()\n",
    "    dataset[i] = dataset[i].dropna()\n",
    "    dataset[i].columns=['DMU'+str(i+1)+'_AI','DMU'+str(i+1)+'_RAW','DMU'+str(i+1)+'_PM10','DMU'+str(i+1)+'_RH','DMU'+str(i+1)+'_TEMP']\n",
    "\n",
    "    \n",
    "result=pd.concat([dataset[0],dataset[1],dataset[2],dataset[3]],axis=1,join=\"inner\")\n",
    "    \n",
    "result.to_csv(\"C:\\\\Users\\dltkd\\\\jupyter\\\\Scholarship_Omnisense\\\\TOTALD~1\\\\result1.csv\")\n",
    "\n",
    "    #### 이렇게 resample하고나서 인덱싱 다시 해줘야 할 듯\n"
   ]
  },
  {
   "cell_type": "code",
   "execution_count": null,
   "metadata": {},
   "outputs": [],
   "source": [
    "import pandas as pd\n",
    "df1 = pd.DataFrame({'a':[1,2,3],'b':[4,5,6]})\n",
    "df2 = pd.DataFrame({'a':[10,11],'b':[40,50]})\n",
    "df3=pd.DataFrame({'b':[40,50,60],'c':[70,80,90],'d':[10,11,12]})\n",
    "df1.index=['2019-07','2019-08','2019-09']\n",
    "df2.index=['2019-07','2019-08']\n",
    "df3.index=['2019-07','2019-08','2019-09']\n",
    "df1.index = pd.to_datetime(df1.index)\n",
    "df2.index=pd.to_datetime(df2.index)\n",
    "df3.index=pd.to_datetime(df3.index)\n",
    "result=pd.DataFrame\n",
    "print(pd.merge(df1,df2,right_index=True,left_index=True,how='inner'))\n",
    "print(pd.concat([df1,df2,df3],join='inner',axis=1))"
   ]
  },
  {
   "cell_type": "code",
   "execution_count": null,
   "metadata": {},
   "outputs": [],
   "source": []
  }
 ],
 "metadata": {
  "kernelspec": {
   "display_name": "Python 3",
   "language": "python",
   "name": "python3"
  },
  "language_info": {
   "codemirror_mode": {
    "name": "ipython",
    "version": 3
   },
   "file_extension": ".py",
   "mimetype": "text/x-python",
   "name": "python",
   "nbconvert_exporter": "python",
   "pygments_lexer": "ipython3",
   "version": "3.7.3"
  }
 },
 "nbformat": 4,
 "nbformat_minor": 2
}
